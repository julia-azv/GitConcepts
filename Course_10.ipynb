{
  "nbformat": 4,
  "nbformat_minor": 0,
  "metadata": {
    "colab": {
      "provenance": [],
      "authorship_tag": "ABX9TyOTAtQIvXZ2i9xfGMARtmsG",
      "include_colab_link": true
    },
    "kernelspec": {
      "name": "python3",
      "display_name": "Python 3"
    },
    "language_info": {
      "name": "python"
    }
  },
  "cells": [
    {
      "cell_type": "markdown",
      "metadata": {
        "id": "view-in-github",
        "colab_type": "text"
      },
      "source": [
        "<a href=\"https://colab.research.google.com/github/julia-azv/GitConcepts/blob/main/Course_10.ipynb\" target=\"_parent\"><img src=\"https://colab.research.google.com/assets/colab-badge.svg\" alt=\"Open In Colab\"/></a>"
      ]
    },
    {
      "cell_type": "code",
      "execution_count": null,
      "metadata": {
        "colab": {
          "base_uri": "https://localhost:8080/"
        },
        "id": "-lHib0iKE4i_",
        "outputId": "c09e77c8-3943-4322-f9ab-987ec4aec770"
      },
      "outputs": [
        {
          "output_type": "stream",
          "name": "stdout",
          "text": [
            "[1 2 3]\n"
          ]
        }
      ],
      "source": [
        "import numpy as np\n",
        "a=np.array([1,2,3], dtype='int32')\n",
        "print (a)"
      ]
    },
    {
      "cell_type": "code",
      "source": [
        "a.ndim #dimension\n",
        "a.shape #taille"
      ],
      "metadata": {
        "colab": {
          "base_uri": "https://localhost:8080/"
        },
        "id": "yFhPe3ItIz27",
        "outputId": "31ab75ae-06b0-4573-d3bf-40c1221d37a7"
      },
      "execution_count": null,
      "outputs": [
        {
          "output_type": "execute_result",
          "data": {
            "text/plain": [
              "(3,)"
            ]
          },
          "metadata": {},
          "execution_count": 9
        }
      ]
    },
    {
      "cell_type": "code",
      "source": [
        "import numpy as np\n",
        "b=np.array([[9.0,8.0,7.0],[6.0,5.0,4.0]])\n",
        "print(b)"
      ],
      "metadata": {
        "colab": {
          "base_uri": "https://localhost:8080/"
        },
        "id": "V1EQtlvkIXs6",
        "outputId": "0ad9a9ac-bbfc-456f-c9f0-f7656d66ff02"
      },
      "execution_count": null,
      "outputs": [
        {
          "output_type": "stream",
          "name": "stdout",
          "text": [
            "[[9. 8. 7.]\n",
            " [6. 5. 4.]]\n"
          ]
        }
      ]
    },
    {
      "cell_type": "code",
      "source": [
        "b.ndim\n",
        "b.shape\n",
        "b.dtype"
      ],
      "metadata": {
        "colab": {
          "base_uri": "https://localhost:8080/"
        },
        "id": "IyVVWMXTI2SE",
        "outputId": "22d8b1e9-4153-4dc8-af11-597a4c34d65d"
      },
      "execution_count": null,
      "outputs": [
        {
          "output_type": "execute_result",
          "data": {
            "text/plain": [
              "dtype('float64')"
            ]
          },
          "metadata": {},
          "execution_count": 11
        }
      ]
    },
    {
      "cell_type": "code",
      "source": [
        "np.random.randint(-4,8,size=(3,3))\n",
        "np.identity(5)"
      ],
      "metadata": {
        "colab": {
          "base_uri": "https://localhost:8080/"
        },
        "id": "wH4GSWv8RG3Z",
        "outputId": "27237e38-1c0d-40f8-a138-9fe6fce9ada8"
      },
      "execution_count": null,
      "outputs": [
        {
          "output_type": "execute_result",
          "data": {
            "text/plain": [
              "array([[1., 0., 0., 0., 0.],\n",
              "       [0., 1., 0., 0., 0.],\n",
              "       [0., 0., 1., 0., 0.],\n",
              "       [0., 0., 0., 1., 0.],\n",
              "       [0., 0., 0., 0., 1.]])"
            ]
          },
          "metadata": {},
          "execution_count": 15
        }
      ]
    },
    {
      "cell_type": "code",
      "source": [
        "arr=np.array([1,2,3])\n",
        "r1=np.repeat(arr,3,axis=0)\n",
        "print(r1)"
      ],
      "metadata": {
        "colab": {
          "base_uri": "https://localhost:8080/"
        },
        "id": "HuERDLyIRfCM",
        "outputId": "e8e0293a-5751-46c0-d629-11ba8618b7ca"
      },
      "execution_count": null,
      "outputs": [
        {
          "output_type": "stream",
          "name": "stdout",
          "text": [
            "[1 1 1 2 2 2 3 3 3]\n"
          ]
        }
      ]
    },
    {
      "cell_type": "code",
      "source": [
        "output=np.ones((5,5))\n",
        "print(output)\n",
        "\n",
        "z=np.zeros((3,3))\n",
        "z[1,1]=9\n",
        "print(z)\n",
        "\n",
        "output[1:-1,1:-1]=z\n",
        "print(output)"
      ],
      "metadata": {
        "colab": {
          "base_uri": "https://localhost:8080/"
        },
        "id": "zVxkTKbeTGPz",
        "outputId": "7f662516-513b-4112-d0d1-b13546cbcc69"
      },
      "execution_count": null,
      "outputs": [
        {
          "output_type": "stream",
          "name": "stdout",
          "text": [
            "[[1. 1. 1. 1. 1.]\n",
            " [1. 1. 1. 1. 1.]\n",
            " [1. 1. 1. 1. 1.]\n",
            " [1. 1. 1. 1. 1.]\n",
            " [1. 1. 1. 1. 1.]]\n",
            "[[0. 0. 0.]\n",
            " [0. 9. 0.]\n",
            " [0. 0. 0.]]\n",
            "[[1. 1. 1. 1. 1.]\n",
            " [1. 0. 0. 0. 1.]\n",
            " [1. 0. 9. 0. 1.]\n",
            " [1. 0. 0. 0. 1.]\n",
            " [1. 1. 1. 1. 1.]]\n"
          ]
        }
      ]
    },
    {
      "cell_type": "code",
      "source": [
        "a=np.ones((2,3))\n",
        "print(a)\n",
        "\n",
        "b=np.full((3,2),2)\n",
        "print(b)\n",
        "\n",
        "np.matmul(a,b)\n",
        "\n",
        "d=np.random.rand(2,3)\n",
        "print(d)\n",
        "\n",
        "e=np.random.randint(-5,5,size=(3,2))\n",
        "print(e)\n",
        "\n",
        "print(np.matmul(d,e))  #matrice multiplication\n",
        "print(np.matmul(e,d))\n",
        "\n",
        "f=np.random.randint(-10,10,size=(4,4))\n",
        "print(f)\n",
        "\n",
        "g=np.random.randint(-4,10,size=(3,3))\n",
        "print(g)\n",
        "\n",
        "print(np.linalg.det(f))\n",
        "print(np.linalg.det(g))"
      ],
      "metadata": {
        "colab": {
          "base_uri": "https://localhost:8080/"
        },
        "id": "0g-7DTefVhgO",
        "outputId": "22f7f0d5-47f4-469b-8b69-95c945611481"
      },
      "execution_count": null,
      "outputs": [
        {
          "output_type": "stream",
          "name": "stdout",
          "text": [
            "[[1. 1. 1.]\n",
            " [1. 1. 1.]]\n",
            "[[2 2]\n",
            " [2 2]\n",
            " [2 2]]\n",
            "[[0.09016314 0.23660002 0.02770037]\n",
            " [0.78247489 0.19432782 0.08316378]]\n",
            "[[-3 -4]\n",
            " [-4 -4]\n",
            " [ 2  1]]\n",
            "[[-1.16148874 -1.27935225]\n",
            " [-2.95840838 -3.82404706]]\n",
            "[[-3.40038897 -1.48711133 -0.41575624]\n",
            " [-3.49055211 -1.72371135 -0.44345661]\n",
            " [ 0.96280117  0.66752785  0.13856452]]\n",
            "[[-4 -1  3 -4]\n",
            " [ 3 -4  9  9]\n",
            " [-8 -9  3  1]\n",
            " [-1 -9  9  4]]\n",
            "[[7 9 6]\n",
            " [4 8 0]\n",
            " [3 5 8]]\n",
            "2289.0000000000005\n",
            "136.00000000000006\n"
          ]
        }
      ]
    },
    {
      "cell_type": "code",
      "source": [
        "stats=np.array([[1,2,3],[4,5,6]])\n",
        "stats\n",
        "np.min(stats)\n",
        "np.max(stats)\n",
        "np.max(stats,axis=0)\n",
        "np.min(stats,axis=0)\n",
        "np.min(stats,axis=1)\n",
        "np.sum(stats,axis=1)"
      ],
      "metadata": {
        "colab": {
          "base_uri": "https://localhost:8080/"
        },
        "id": "Dcg3RZ43cdsJ",
        "outputId": "ee10b7e9-6a22-4ade-99de-45fd7d0a8d1d"
      },
      "execution_count": null,
      "outputs": [
        {
          "output_type": "execute_result",
          "data": {
            "text/plain": [
              "array([ 6, 15])"
            ]
          },
          "metadata": {},
          "execution_count": 42
        }
      ]
    },
    {
      "cell_type": "code",
      "source": [
        "arr=np.array([[1,2,3]])\n",
        "r1=np.repeat(arr,3,axis=-2)\n",
        "print(r1)\n"
      ],
      "metadata": {
        "colab": {
          "base_uri": "https://localhost:8080/"
        },
        "id": "0Z1gd8KRezon",
        "outputId": "11d3d460-63b7-4921-e0d1-312d2fe3d844"
      },
      "execution_count": null,
      "outputs": [
        {
          "output_type": "stream",
          "name": "stdout",
          "text": [
            "[[1 2 3]\n",
            " [1 2 3]\n",
            " [1 2 3]]\n"
          ]
        }
      ]
    },
    {
      "cell_type": "code",
      "source": [
        "import numpy as np\n",
        "smooth1=[1,2.5,3,4.5,5]\n",
        "arr1=np.array(smooth1)\n",
        "print(arr1)\n",
        "smooth2=[1.5,1j+2,2.5,3,3.5]\n",
        "arr2=np.array(smooth2)\n",
        "print(arr2)"
      ],
      "metadata": {
        "colab": {
          "base_uri": "https://localhost:8080/"
        },
        "id": "QMvT-nKkhaKu",
        "outputId": "e4f0559f-28fa-44af-94ff-25d5e93cd28f"
      },
      "execution_count": null,
      "outputs": [
        {
          "output_type": "stream",
          "name": "stdout",
          "text": [
            "[1.  2.5 3.  4.5 5. ]\n",
            "[1.5+0.j 2. +1.j 2.5+0.j 3. +0.j 3.5+0.j]\n"
          ]
        }
      ]
    },
    {
      "cell_type": "code",
      "source": [
        "import numpy as np\n",
        "a=np.random.randint(10,30,size=(1,30))\n",
        "a[0,4]=1\n",
        "print(a)"
      ],
      "metadata": {
        "colab": {
          "base_uri": "https://localhost:8080/"
        },
        "id": "_iU2dsWijjdP",
        "outputId": "952f91be-79da-4f7b-fcab-ba0e0f19e9de"
      },
      "execution_count": null,
      "outputs": [
        {
          "output_type": "stream",
          "name": "stdout",
          "text": [
            "[[22 17 22 16  1 10 10 27 21 26 27 26 26 26 13 10 10 20 20 17 16 21 27 16\n",
            "  24 17 19 14 19 17]]\n"
          ]
        }
      ]
    }
  ]
}